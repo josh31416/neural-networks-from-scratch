{
 "cells": [
  {
   "cell_type": "markdown",
   "metadata": {},
   "source": [
    "# Neural networks from scratch - Sentiment analysis"
   ]
  },
  {
   "cell_type": "code",
   "execution_count": 1,
   "metadata": {
    "tags": []
   },
   "outputs": [],
   "source": [
    "import pandas as pd\n",
    "import numpy as np"
   ]
  },
  {
   "cell_type": "markdown",
   "metadata": {},
   "source": [
    "## The dataset\n",
    "\n",
    "IMDB dataset having 50K polar movie reviews for natural language processing."
   ]
  },
  {
   "cell_type": "code",
   "execution_count": 2,
   "metadata": {
    "tags": []
   },
   "outputs": [
    {
     "data": {
      "text/html": [
       "<div>\n",
       "<style scoped>\n",
       "    .dataframe tbody tr th:only-of-type {\n",
       "        vertical-align: middle;\n",
       "    }\n",
       "\n",
       "    .dataframe tbody tr th {\n",
       "        vertical-align: top;\n",
       "    }\n",
       "\n",
       "    .dataframe thead th {\n",
       "        text-align: right;\n",
       "    }\n",
       "</style>\n",
       "<table border=\"1\" class=\"dataframe\">\n",
       "  <thead>\n",
       "    <tr style=\"text-align: right;\">\n",
       "      <th></th>\n",
       "      <th>review</th>\n",
       "      <th>sentiment</th>\n",
       "    </tr>\n",
       "  </thead>\n",
       "  <tbody>\n",
       "    <tr>\n",
       "      <th>0</th>\n",
       "      <td>One of the other reviewers has mentioned that ...</td>\n",
       "      <td>positive</td>\n",
       "    </tr>\n",
       "    <tr>\n",
       "      <th>1</th>\n",
       "      <td>A wonderful little production. &lt;br /&gt;&lt;br /&gt;The...</td>\n",
       "      <td>positive</td>\n",
       "    </tr>\n",
       "    <tr>\n",
       "      <th>2</th>\n",
       "      <td>I thought this was a wonderful way to spend ti...</td>\n",
       "      <td>positive</td>\n",
       "    </tr>\n",
       "    <tr>\n",
       "      <th>3</th>\n",
       "      <td>Basically there's a family where a little boy ...</td>\n",
       "      <td>negative</td>\n",
       "    </tr>\n",
       "    <tr>\n",
       "      <th>4</th>\n",
       "      <td>Petter Mattei's \"Love in the Time of Money\" is...</td>\n",
       "      <td>positive</td>\n",
       "    </tr>\n",
       "  </tbody>\n",
       "</table>\n",
       "</div>"
      ],
      "text/plain": [
       "                                              review sentiment\n",
       "0  One of the other reviewers has mentioned that ...  positive\n",
       "1  A wonderful little production. <br /><br />The...  positive\n",
       "2  I thought this was a wonderful way to spend ti...  positive\n",
       "3  Basically there's a family where a little boy ...  negative\n",
       "4  Petter Mattei's \"Love in the Time of Money\" is...  positive"
      ]
     },
     "execution_count": 2,
     "metadata": {},
     "output_type": "execute_result"
    }
   ],
   "source": [
    "INPUT_DIR = './'\n",
    "with open(INPUT_DIR + 'IMDB Dataset.csv', 'r') as file:\n",
    "    reviews = pd.read_csv(file)\n",
    "reviews.head()"
   ]
  },
  {
   "cell_type": "code",
   "execution_count": 3,
   "metadata": {
    "tags": []
   },
   "outputs": [
    {
     "data": {
      "text/plain": [
       "\"One of the other reviewers has mentioned that after watching just 1 Oz episode you'll be hooked. They are right, as this is exactly what happened with me.<br /><br />The first thing that struck me about Oz was its brutality and unflinching scenes of violence, which set in right from the word GO. Trust me, this is not a show for the faint hearted or timid. This show pulls no punches with regards to drugs, sex or violence. Its is hardcore, in the classic use of the word.<br /><br />It is called OZ as that is the nickname given to the Oswald Maximum Security State Penitentary. It focuses mainly on Emerald City, an experimental section of the prison where all the cells have glass fronts and face inwards, so privacy is not high on the agenda. Em City is home to many..Aryans, Muslims, gangstas, Latinos, Christians, Italians, Irish and more....so scuffles, death stares, dodgy dealings and shady agreements are never far away.<br /><br />I would say the main appeal of the show is due to the fact that it goes where other shows wouldn't dare. Forget pretty pictures painted for mainstream audiences, forget charm, forget romance...OZ doesn't mess around. The first episode I ever saw struck me as so nasty it was surreal, I couldn't say I was ready for it, but as I watched more, I developed a taste for Oz, and got accustomed to the high levels of graphic violence. Not just violence, but injustice (crooked guards who'll be sold out for a nickel, inmates who'll kill on order and get away with it, well mannered, middle class inmates being turned into prison bitches due to their lack of street skills or prison experience) Watching Oz, you may become comfortable with what is uncomfortable viewing....thats if you can get in touch with your darker side.\""
      ]
     },
     "execution_count": 3,
     "metadata": {},
     "output_type": "execute_result"
    }
   ],
   "source": [
    "reviews['review'][0]"
   ]
  },
  {
   "cell_type": "code",
   "execution_count": 4,
   "metadata": {
    "tags": []
   },
   "outputs": [
    {
     "data": {
      "text/plain": [
       "positive    25000\n",
       "negative    25000\n",
       "Name: sentiment, dtype: int64"
      ]
     },
     "execution_count": 4,
     "metadata": {},
     "output_type": "execute_result"
    }
   ],
   "source": [
    "reviews['sentiment'].value_counts()"
   ]
  },
  {
   "cell_type": "markdown",
   "metadata": {
    "execution": {
     "iopub.execute_input": "2022-01-05T19:00:27.561754Z",
     "iopub.status.busy": "2022-01-05T19:00:27.561542Z",
     "iopub.status.idle": "2022-01-05T19:00:27.579522Z",
     "shell.execute_reply": "2022-01-05T19:00:27.578605Z",
     "shell.execute_reply.started": "2022-01-05T19:00:27.561733Z"
    }
   },
   "source": [
    "### Preprocessing\n",
    "\n",
    "- **Transforming to lowercase** so that This, this, THIS are considered equal\n",
    "- **Removing punctuation marks and line breaks `<br />`**"
   ]
  },
  {
   "cell_type": "code",
   "execution_count": 5,
   "metadata": {
    "tags": []
   },
   "outputs": [],
   "source": [
    "import re\n",
    "\n",
    "reviews['review'] = reviews['review'].map(lambda review: re.sub('(\\\\\\'s|[\\.,\"\\']|<br />)', '', review.lower()))"
   ]
  },
  {
   "cell_type": "code",
   "execution_count": 6,
   "metadata": {
    "tags": []
   },
   "outputs": [
    {
     "data": {
      "text/plain": [
       "'one of the other reviewers has mentioned that after watching just 1 oz episode youll be hooked they are right as this is exactly what happened with methe first thing that struck me about oz was its brutality and unflinching scenes of violence which set in right from the word go trust me this is not a show for the faint hearted or timid this show pulls no punches with regards to drugs sex or violence its is hardcore in the classic use of the wordit is called oz as that is the nickname given to the oswald maximum security state penitentary it focuses mainly on emerald city an experimental section of the prison where all the cells have glass fronts and face inwards so privacy is not high on the agenda em city is home to manyaryans muslims gangstas latinos christians italians irish and moreso scuffles death stares dodgy dealings and shady agreements are never far awayi would say the main appeal of the show is due to the fact that it goes where other shows wouldnt dare forget pretty pictures painted for mainstream audiences forget charm forget romanceoz doesnt mess around the first episode i ever saw struck me as so nasty it was surreal i couldnt say i was ready for it but as i watched more i developed a taste for oz and got accustomed to the high levels of graphic violence not just violence but injustice (crooked guards wholl be sold out for a nickel inmates wholl kill on order and get away with it well mannered middle class inmates being turned into prison bitches due to their lack of street skills or prison experience) watching oz you may become comfortable with what is uncomfortable viewingthats if you can get in touch with your darker side'"
      ]
     },
     "execution_count": 6,
     "metadata": {},
     "output_type": "execute_result"
    }
   ],
   "source": [
    "reviews['review'][0]"
   ]
  },
  {
   "cell_type": "code",
   "execution_count": 7,
   "metadata": {
    "tags": []
   },
   "outputs": [
    {
     "data": {
      "text/plain": [
       "'a wonderful little production the filming technique is very unassuming- very old-time-bbc fashion and gives a comforting and sometimes discomforting sense of realism to the entire piece the actors are extremely well chosen- michael sheen not only has got all the polari but he has all the voices down pat too! you can truly see the seamless editing guided by the references to williams diary entries not only is it well worth the watching but it is a terrificly written and performed piece a masterful production about one of the great master of comedy and his life the realism really comes home with the little things: the fantasy of the guard which rather than use the traditional dream techniques remains solid then disappears it plays on our knowledge and our senses particularly with the scenes concerning orton and halliwell and the sets (particularly of their flat with halliwell murals decorating every surface) are terribly well done'"
      ]
     },
     "execution_count": 7,
     "metadata": {},
     "output_type": "execute_result"
    }
   ],
   "source": [
    "reviews['review'][1]"
   ]
  },
  {
   "cell_type": "markdown",
   "metadata": {},
   "source": [
    "#### Analysis\n",
    "\n",
    "Computing the ratios of positive and negative words and applying log function to make them comparable."
   ]
  },
  {
   "cell_type": "code",
   "execution_count": 8,
   "metadata": {
    "tags": []
   },
   "outputs": [],
   "source": [
    "from collections import Counter\n",
    "\n",
    "positive_counter = Counter()\n",
    "negative_counter = Counter()\n",
    "total_counter = Counter()\n",
    "for review, sentiment in zip(reviews['review'], reviews['sentiment']):\n",
    "    for word in review.split(' '):\n",
    "        total_counter[word] += 1\n",
    "        if sentiment == 'positive':\n",
    "            positive_counter[word] += 1\n",
    "        else:\n",
    "            negative_counter[word] += 1"
   ]
  },
  {
   "cell_type": "code",
   "execution_count": 9,
   "metadata": {
    "tags": []
   },
   "outputs": [],
   "source": [
    "MINIMUM_WORD_COUNT = 10\n",
    "positive2negative_ratios = Counter()\n",
    "for word, count in total_counter.most_common():\n",
    "    if count >= MINIMUM_WORD_COUNT:\n",
    "        positive2negative_ratios[word] = positive_counter[word] / (negative_counter[word] + 1)\n",
    "\n",
    "for word, ratio in positive2negative_ratios.most_common():\n",
    "    if ratio > 1:\n",
    "        positive2negative_ratios[word] = np.log(ratio)\n",
    "    else:\n",
    "        positive2negative_ratios[word] = -np.log((1 / (ratio + 0.0001)))"
   ]
  },
  {
   "cell_type": "code",
   "execution_count": 10,
   "metadata": {
    "tags": []
   },
   "outputs": [
    {
     "name": "stdout",
     "output_type": "stream",
     "text": [
      "Positive to negative ratio for very = 0.3391205133385867\n",
      "Positive to negative ratio for wonderful = 1.560890256170682\n",
      "Positive to negative ratio for worst = -2.396373419560346\n"
     ]
    }
   ],
   "source": [
    "def print_positive_to_negative_ratio(word):\n",
    "    print(f'Positive to negative ratio for {word} = {positive2negative_ratios[word]}')\n",
    "\n",
    "print_positive_to_negative_ratio('very')\n",
    "print_positive_to_negative_ratio('wonderful')\n",
    "print_positive_to_negative_ratio('worst')"
   ]
  },
  {
   "cell_type": "markdown",
   "metadata": {},
   "source": [
    "## Multilayer perceptron"
   ]
  },
  {
   "cell_type": "code",
   "execution_count": 11,
   "metadata": {
    "tags": []
   },
   "outputs": [],
   "source": [
    "import numpy as np\n",
    "import re\n",
    "from collections import Counter\n",
    "\n",
    "class SentimentAnalysisNNet:\n",
    "    def __init__(self, reviews, sentiments, hidden_nodes=10, output_nodes=1, min_word_count=10, polarity_threshold=0.1):\n",
    "        positive_counter = Counter()\n",
    "        negative_counter = Counter()\n",
    "        total_counter = Counter()\n",
    "        for review, sentiment in zip(reviews, sentiments):\n",
    "            for word in review.split(' '):\n",
    "                total_counter[word] += 1\n",
    "                if sentiment == 'positive':\n",
    "                    positive_counter[word] += 1\n",
    "                else:\n",
    "                    negative_counter[word] += 1\n",
    "\n",
    "        positive2negative_ratios = Counter()\n",
    "        for word, count in total_counter.most_common():\n",
    "            if count >= min_word_count:\n",
    "                positive2negative_ratios[word] = positive_counter[word] / (negative_counter[word] + 1)\n",
    "\n",
    "        for word, ratio in positive2negative_ratios.most_common():\n",
    "            if ratio > 1:\n",
    "                positive2negative_ratios[word] = np.log(ratio)\n",
    "            else: \n",
    "                positive2negative_ratios[word] = -np.log((1 / (ratio + 0.0001)))\n",
    "        \n",
    "        self.vocabulary = list(filter(lambda word:\n",
    "            total_counter[word] >= min_word_count and (\n",
    "            word not in positive2negative_ratios or (\n",
    "                word in positive2negative_ratios and positive2negative_ratios[word] >= polarity_threshold\n",
    "                )\n",
    "            ), total_counter.keys()))\n",
    "        \n",
    "        self.word2index = {}\n",
    "        for i, word in enumerate(self.vocabulary):\n",
    "            self.word2index[word] = i\n",
    "\n",
    "        self.label2index = {\n",
    "            'negative': 0,\n",
    "            'positive': 1\n",
    "        }\n",
    "\n",
    "        self.weights = [\n",
    "            np.zeros((len(self.vocabulary), hidden_nodes)),\n",
    "            # np.random.normal(0.0, hidden_nodes**-0.5, (len(self.vocabulary), hidden_nodes)),\n",
    "            np.random.normal(0.0, output_nodes**-0.5, (hidden_nodes, output_nodes))\n",
    "        ]\n",
    "        self.hidden_layer = np.zeros((1, hidden_nodes))\n",
    "\n",
    "    def sigmoid(self, x):\n",
    "        return 1 / (1 + np.exp(-x))\n",
    "    \n",
    "    def sigmoid_prime(self, output):\n",
    "        return output * (1 - output)\n",
    "\n",
    "    def preprocess(self, review):\n",
    "        return re.sub('(\\\\\\'s|[\\.,\"\\']|<br />)', '', review.lower())\n",
    "    \n",
    "    def train(self, reviews, sentiments, epochs=1, learning_rate=0.1):\n",
    "        print(\"Training...\")\n",
    "        X = []\n",
    "        for review in reviews:\n",
    "            idxs = set()\n",
    "            for word in review.split(' '):\n",
    "                if word in self.word2index:\n",
    "                    idxs.add(self.word2index[word])\n",
    "            X.append(idxs)\n",
    "        y = [self.label2index[sentiment] for sentiment in sentiments]\n",
    "        X_size = len(X)\n",
    "        assert(X_size == len(y))\n",
    "        \n",
    "        for epoch in range(epochs):\n",
    "            correct_counter = 0\n",
    "            for i, (review, sentiment) in enumerate(zip(X, y)):\n",
    "                # FEEDFORWARD\n",
    "                # Hidden layer\n",
    "                #   input is whether a word is present (binary)\n",
    "                #   no activation function is used in the hidden layer\n",
    "                self.hidden_layer *= 0\n",
    "                for index in review:\n",
    "                    self.hidden_layer += self.weights[0][index]\n",
    "                # Output layer\n",
    "                output = self.sigmoid(self.hidden_layer.dot(self.weights[1]))\n",
    "\n",
    "                # BACKPROPAGATION\n",
    "                # Calculate error\n",
    "                deltas = []\n",
    "                deltas.append((output - sentiment)  * self.sigmoid_prime(output))\n",
    "                deltas.append(deltas[0].dot(self.weights[1].T))\n",
    "                # Update the weights\n",
    "                self.weights[1] -= self.hidden_layer.T.dot(deltas[0]) * learning_rate\n",
    "                for index in review:\n",
    "                    self.weights[0][index] -= deltas[1][0] * learning_rate\n",
    "\n",
    "                if output >= 0.5 and sentiment == self.label2index['positive']:\n",
    "                    correct_counter += 1\n",
    "                elif output < 0.5 and sentiment == self.label2index['negative']:\n",
    "                    correct_counter += 1\n",
    "\n",
    "                if(i % (X_size//10) == 0 and i != 0):\n",
    "                    print(\"Epoch: {}\\tProgress: {:.0f}%\\tAccuracy: {:.2f}\".format(epoch+1, 100 * i/float(X_size), correct_counter * 100 / float(i+1)))\n",
    "\n",
    "            print(\"Epoch: {}\\tProgress: {:.0f}%\\tAccuracy: {:.2f}\\n\".format(epoch+1, 100 * i/float(X_size), correct_counter * 100 / float(i+1)))\n",
    "    \n",
    "    def test(self, reviews, sentiments):\n",
    "        print(\"Testing...\")\n",
    "        assert(len(reviews) == len(sentiments))\n",
    "\n",
    "        correct_counter = 0\n",
    "        for i, (review, sentiment) in enumerate(zip(reviews, sentiments)):\n",
    "            output = self.run(review)\n",
    "            if output == sentiment:\n",
    "                correct_counter += 1\n",
    "\n",
    "        print(\"\\nAccuracy: {:.2f}\".format(correct_counter * 100 / float(i+1)))\n",
    "    \n",
    "    def run(self, review):\n",
    "        idxs = set()\n",
    "        for word in self.preprocess(review).split(' '):\n",
    "            if word in self.word2index:\n",
    "                idxs.add(self.word2index[word])\n",
    "        self.hidden_layer *= 0\n",
    "        for index in idxs:\n",
    "            self.hidden_layer += self.weights[0][index]\n",
    "        output = self.sigmoid(self.hidden_layer.dot(self.weights[1]))\n",
    "        \n",
    "        return 'positive' if output >= 0.5 else 'negative'\n"
   ]
  },
  {
   "cell_type": "code",
   "execution_count": 13,
   "metadata": {
    "tags": []
   },
   "outputs": [
    {
     "name": "stdout",
     "output_type": "stream",
     "text": [
      "Training...\n",
      "Epoch: 1\tProgress: 10%\tAccuracy: 68.83\n",
      "Epoch: 1\tProgress: 20%\tAccuracy: 70.59\n",
      "Epoch: 1\tProgress: 30%\tAccuracy: 71.24\n",
      "Epoch: 1\tProgress: 40%\tAccuracy: 71.75\n",
      "Epoch: 1\tProgress: 50%\tAccuracy: 72.18\n",
      "Epoch: 1\tProgress: 60%\tAccuracy: 72.76\n",
      "Epoch: 1\tProgress: 70%\tAccuracy: 73.35\n",
      "Epoch: 1\tProgress: 80%\tAccuracy: 73.56\n",
      "Epoch: 1\tProgress: 90%\tAccuracy: 73.79\n",
      "Epoch: 1\tProgress: 100%\tAccuracy: 73.99\n",
      "\n",
      "Epoch: 2\tProgress: 10%\tAccuracy: 79.16\n",
      "Epoch: 2\tProgress: 20%\tAccuracy: 78.90\n",
      "Epoch: 2\tProgress: 30%\tAccuracy: 78.56\n",
      "Epoch: 2\tProgress: 40%\tAccuracy: 78.54\n",
      "Epoch: 2\tProgress: 50%\tAccuracy: 78.44\n",
      "Epoch: 2\tProgress: 60%\tAccuracy: 78.61\n",
      "Epoch: 2\tProgress: 70%\tAccuracy: 78.65\n",
      "Epoch: 2\tProgress: 80%\tAccuracy: 78.54\n",
      "Epoch: 2\tProgress: 90%\tAccuracy: 78.54\n",
      "Epoch: 2\tProgress: 100%\tAccuracy: 78.57\n",
      "\n",
      "Testing...\n",
      "\n",
      "Accuracy: 76.37\n"
     ]
    }
   ],
   "source": [
    "TRAIN_TEST_SPLIT = 40000\n",
    "X = list(reviews['review'])\n",
    "y = list(reviews['sentiment'])\n",
    "\n",
    "mlp = SentimentAnalysisNNet(X[:TRAIN_TEST_SPLIT], y[:TRAIN_TEST_SPLIT], hidden_nodes=10)\n",
    "mlp.train(X[:TRAIN_TEST_SPLIT], y[:TRAIN_TEST_SPLIT], epochs=2, learning_rate=.01)\n",
    "mlp.test(X[TRAIN_TEST_SPLIT:], y[TRAIN_TEST_SPLIT:])"
   ]
  },
  {
   "cell_type": "markdown",
   "metadata": {},
   "source": [
    "## Further steps\n",
    "\n",
    "- Improve preprocessing with NLP techniques such as lemmatization or stemming\n",
    "- Add several hidden layers\n",
    "- Instead of sum of squared errors, use cross entropy as the error function\n",
    "- Introduce non-linearity in hidden layers (activation function)\n",
    "- Try other weight initialization methods\n",
    "- Use a more complex architecture (RNNs)"
   ]
  },
  {
   "cell_type": "markdown",
   "metadata": {},
   "source": []
  }
 ],
 "metadata": {
  "kernelspec": {
   "display_name": "Python 3 (ipykernel)",
   "language": "python",
   "name": "python3"
  },
  "language_info": {
   "codemirror_mode": {
    "name": "ipython",
    "version": 3
   },
   "file_extension": ".py",
   "mimetype": "text/x-python",
   "name": "python",
   "nbconvert_exporter": "python",
   "pygments_lexer": "ipython3",
   "version": "3.9.7"
  }
 },
 "nbformat": 4,
 "nbformat_minor": 4
}
